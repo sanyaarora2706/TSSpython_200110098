{
 "cells": [
  {
   "cell_type": "markdown",
   "id": "mwY8-ebWnn8k",
   "metadata": {
    "id": "mwY8-ebWnn8k"
   },
   "source": [
    "# Assignment: Complete the Snippet\n"
   ]
  },
  {
   "cell_type": "markdown",
   "id": "98h1wLbDnn8n",
   "metadata": {
    "id": "98h1wLbDnn8n"
   },
   "source": [
    "Shubh started building a basic Python Script which goes through the entire text of a particular book and mugs up all its words. After that it asks you for a word, goes over the times when this word came in the text and gives you the complete sentence in which it was used. You may choose to ask for as many such sentences as the number of occurences of the word.\n",
    "\n",
    "He's managed to come up with the part where he loads the file into Memory. He also managed to come up with snippets of code which could potentially do something if completed, but he has many deadlines to look after and not enough caffeine to turn to code. Can you help him?"
   ]
  },
  {
   "cell_type": "code",
   "execution_count": 1,
   "id": "W2FPoG_Lnn8n",
   "metadata": {
    "id": "W2FPoG_Lnn8n"
   },
   "outputs": [],
   "source": [
    "File = open(\"HarryPotterAndTheSorcerersStone.txt\",'r',encoding = 'utf8')     #This helps in opening the file which is to be read"
   ]
  },
  {
   "cell_type": "markdown",
   "id": "6n2G1L6qnn8o",
   "metadata": {
    "id": "6n2G1L6qnn8o"
   },
   "source": [
    "Next he makes a list of all the words present in the novel mapping them to their index(position) in the list of words (i.e. ListOfWords). This is done by mapping every word (a string) to a list (list of indices), and this is stored as a Dictionary (DictionaryoOfWords)\n",
    "\n",
    "\n",
    "\n",
    "He makes use of the readlines() method which is used to extract all the lines from any text and the split() function which could be used to split any sentence into distinct words. The replace() method is used on strings to replace certain segments of the string with something else."
   ]
  },
  {
   "cell_type": "code",
   "execution_count": 2,
   "id": "wuz-iSaonn8o",
   "metadata": {
    "id": "wuz-iSaonn8o"
   },
   "outputs": [],
   "source": [
    "DictionaryOfWords = {}         #Dictionary mapping every word to a list (of indices of the words' occurences)\n",
    "Novel = []                     #List of all words in the order, in which they appear!\n",
    "\n",
    "\n",
    "\n",
    "i = 0                   #Counter Variable to keep track of index of words\n",
    "\n",
    "for line in File.readlines():     #Iterate over all lines present in the text\n",
    "\n",
    "    #Look at Python's Conciseness!\n",
    "    \n",
    "    line = line.replace(\".\",\"\").replace(\",\",\"\").replace('?','').replace('!','').replace('[','').replace(']','')\\\n",
    "    .replace('(','').replace(')','').replace('%','').replace('/','')\n",
    "    line = line.replace('\\n', '') #added this line to prevent 'word\\n' to be considered as a different word\n",
    "      \n",
    "    #COMPLETE THE CODE FROM HERE:\n",
    "    \n",
    "    #This would split the line into many different words, and iterate over these words\n",
    "    for word in line.split(' '): \n",
    "                                                                             \n",
    "        if word in DictionaryOfWords.keys():     #If the word is already present in the dictionary\n",
    "                                                                             \n",
    "            DictionaryOfWords[word].append(i) #Add the index into the pre-existing list for this word\n",
    "                                                                             \n",
    "        else:\n",
    "            DictionaryOfWords[word] = [i]        #Create a new list of indices for this word, with a single element\n",
    "                                                                             \n",
    "        \n",
    "        Novel.append(word)        #Add the Word in the Novel's ordered list of words\n",
    "                                                                             \n",
    "        i+=1\n"
   ]
  },
  {
   "cell_type": "markdown",
   "id": "7Q0xPLDynn8o",
   "metadata": {
    "id": "7Q0xPLDynn8o"
   },
   "source": [
    "That guy truly left a lot of work for you!\n",
    "\n",
    "Now that you've done that, We have the words in the novel alongwith where they appeared in the text loaded into memory (Thanks to You!).\n",
    "\n",
    "The Next Step would be to answer any queries the user may have.\n",
    "\n",
    "To do this, we define the function GetQuery() which returns the word as well as the number of results the user wants to see (as a tuple):\n",
    "\n"
   ]
  },
  {
   "cell_type": "code",
   "execution_count": 3,
   "id": "rZdPHcyZnn8p",
   "metadata": {
    "id": "rZdPHcyZnn8p"
   },
   "outputs": [],
   "source": [
    "#COMPLETE THE CODE FROM HERE:\n",
    "\n",
    "def GetQuery():\n",
    "   \n",
    "    word = input(\"Enter word: \")        #Get Input from the user regarding what word s/he wants to query for\n",
    "\n",
    "    Number = input(\"Enter number of results: \")      #Get Input from the user regarding how many results the user wants to see\n",
    "\n",
    "    return (word, Number)                 #Return as output a tuple of the word and the Number of results       "
   ]
  },
  {
   "cell_type": "markdown",
   "id": "f0ExNn2Hnn8p",
   "metadata": {
    "id": "f0ExNn2Hnn8p"
   },
   "source": [
    "Now, We need a function which takes as input the index of any particular word and prints the words surrounding it as if they were in an actual sentence. \n",
    "\n",
    "This is done by iterating over the words surrounding it, and printing them with gaps in between. We also assume that this occurence isn't a boundary case and thus, the 10 words surronding it actually exist."
   ]
  },
  {
   "cell_type": "code",
   "execution_count": 4,
   "id": "NFjuNsIjnn8q",
   "metadata": {
    "id": "NFjuNsIjnn8q"
   },
   "outputs": [],
   "source": [
    "def PrintContext(index):\n",
    "    \n",
    "    global Novel                          #Declares the list Novel as a Global Variable\n",
    "    \n",
    "    #COMPLETE THE CODE FROM HERE:\n",
    "    \n",
    "    for i in range(index-5, index+6) :           #Define the range so that the task above is fulfilled\n",
    "        \n",
    "        print(Novel[i], end = ' ')          #Print the word (using List Indexing) with a space after that\n",
    "        \n",
    "    print('\\n')"
   ]
  },
  {
   "cell_type": "markdown",
   "id": "WaT0_Nsxnn8q",
   "metadata": {
    "id": "WaT0_Nsxnn8q"
   },
   "source": [
    "The result of the GetQuery() function will be passed into a second function which would take as input the word and the number of results to be displayed and do so!"
   ]
  },
  {
   "cell_type": "code",
   "execution_count": 5,
   "id": "lJe_w2C0nn8r",
   "metadata": {
    "id": "lJe_w2C0nn8r"
   },
   "outputs": [],
   "source": [
    "def PrintResult(word, NumQuery):\n",
    "    \n",
    "    oldind = -1 #introduced this to skip words already visited\n",
    "  \n",
    "    global DictionaryOfWords                #Allows us to use the Dictionary as a global variable\n",
    "    \n",
    "    #COMPLETE THE CODE FROM HERE:\n",
    "    \n",
    "    L = DictionaryOfWords[word] \n",
    "    \n",
    "    for i in range(0,min(len(L),int(NumQuery))):\n",
    "        \n",
    "        PrintContext(Novel.index(word, oldind+1, -1))             #Actually print the words surrounding the ith occurence of the given word\n",
    "        \n",
    "        oldind = Novel.index(word, oldind+1, -1)\n",
    "        "
   ]
  },
  {
   "cell_type": "markdown",
   "id": "JRNRUKLTnn8s",
   "metadata": {
    "id": "JRNRUKLTnn8s"
   },
   "source": [
    "Finally, you need an infinite loop which runs until the user wants it to and asks for the next word (if the user wants to query more) or end the loop."
   ]
  },
  {
   "cell_type": "code",
   "execution_count": 6,
   "id": "b5LvL0TQnn8s",
   "metadata": {
    "id": "b5LvL0TQnn8s"
   },
   "outputs": [
    {
     "name": "stdout",
     "output_type": "stream",
     "text": [
      "Press Y in order to Continue with the next query or N to end.\n",
      "Please press Enter after entering your choice!Y\n",
      "Enter word: Potter\n",
      "Enter number of results: 20\n",
      "out about the Potters Mrs Potter was Mrs Dursley’s sister but \n",
      "\n",
      "no he was being stupid Potter wasn’t such an unusual name \n",
      "\n",
      "is that Lily and James Potter are — are — that \n",
      "\n",
      "when he couldn’t kill Harry Potter Yoldemort’s power somehow broke — \n",
      "\n",
      "street screaming for sweets Harry Potter come and live here”  \n",
      "\n",
      "today was known as Harry Potter Day in the future — \n",
      "\n",
      "astonishing things to happen Harry Potter rolled over inside his blankets \n",
      "\n",
      "in hushed voices: “To Harry Potter — the boy who lived” \n",
      "\n",
      "*   Yet Harry Potter was still there asleep at \n",
      "\n",
      "gang hated that odd Harry Potter in his baggy old clothes \n",
      "\n",
      "“There’s another one ‘Mr H Potter The Small¬ est Bedroom 4 \n",
      "\n",
      "one of you Mr H Potter Only I got about an \n",
      "\n",
      "emerald green to Mr H Potter The Floor Hut- on-the-Rock The \n",
      "\n",
      "Wizards   Dear Mr Potter  We are pleased to \n",
      "\n",
      " “Then she met that Potter at school and they left \n",
      "\n",
      "crash kill Lily an’ James Potter It’s an outrage A scandal \n",
      "\n",
      "an outrage A scandal Harry Potter not knowin’ his own story \n",
      "\n",
      " “See” said Hagrid “Harry Potter not a wizard — you \n",
      "\n",
      "whispered the old bartender “Harry Potter    what an \n",
      "\n",
      "eyes  “Welcome back Mr Potter welcome back”  Harry didn’t \n",
      "\n",
      "Press Y in order to Continue with the next query or N to end.\n",
      "Please press Enter after entering your choice!N\n"
     ]
    }
   ],
   "source": [
    "while 1>0 :   \n",
    "    \n",
    "    Choice = input('''Press Y in order to Continue with the next query or N to end.\n",
    "Please press Enter after entering your choice!''')\n",
    "    \n",
    "    #COMPLETE THE CODE FROM HERE:\n",
    "    \n",
    "    if Choice== 'Y' :                     # If the user wants to query \n",
    "        \n",
    "        query = GetQuery()\n",
    "        \n",
    "        PrintResult(query[0], query[1])                        #Use some of the past defined function to do so\n",
    "        \n",
    "    else:\n",
    "        \n",
    "        break                                 #Else end the loop"
   ]
  }
 ],
 "metadata": {
  "colab": {
   "name": "Copy of AssignmentForSnippetCompletion.ipynb",
   "provenance": []
  },
  "kernelspec": {
   "display_name": "Python 3",
   "language": "python",
   "name": "python3"
  },
  "language_info": {
   "codemirror_mode": {
    "name": "ipython",
    "version": 3
   },
   "file_extension": ".py",
   "mimetype": "text/x-python",
   "name": "python",
   "nbconvert_exporter": "python",
   "pygments_lexer": "ipython3",
   "version": "3.8.8"
  }
 },
 "nbformat": 4,
 "nbformat_minor": 5
}
