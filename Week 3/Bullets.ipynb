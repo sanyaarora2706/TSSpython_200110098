{
  "nbformat": 4,
  "nbformat_minor": 0,
  "metadata": {
    "colab": {
      "name": "Bullets.ipynb",
      "provenance": [],
      "collapsed_sections": []
    },
    "kernelspec": {
      "name": "python3",
      "display_name": "Python 3"
    },
    "language_info": {
      "name": "python"
    }
  },
  "cells": [
    {
      "cell_type": "markdown",
      "metadata": {
        "id": "rD3QBO4jI6CV"
      },
      "source": [
        "# Shooting the bullets\n",
        "\n",
        "In this section we will code to allow our ship to shoot bullets after taking input from users. \n",
        "\n",
        "We’ll write code that fires a bullet\n",
        "(a small rectangle) when the player presses the spacebar. Bullets will then travel straight up the screen until they disappear off the top of the screen.\n"
      ]
    },
    {
      "cell_type": "markdown",
      "metadata": {
        "id": "8xxPJQj-cbRP"
      },
      "source": [
        "First of all we will add some settings describing the bullets in *settings.py*."
      ]
    },
    {
      "cell_type": "code",
      "metadata": {
        "id": "wbvXzw3-cjco"
      },
      "source": [
        "class Settings():\n",
        "    \"\"\"A class to store all settings for Alien Invasion.\"\"\"\n",
        "    def __init__(self):\n",
        "        \"\"\"Initialize the game's settings.\"\"\"\n",
        "        # Screen settings\n",
        "        self.screen_width = 1200\n",
        "        self.screen_height = 800\n",
        "\n",
        "        # Bullet settings\n",
        "        self.bullet_width = 3\n",
        "        self.bullet_height = 15\n",
        "        self.bullet_color = (230,230,230)\n"
      ],
      "execution_count": null,
      "outputs": []
    },
    {
      "cell_type": "markdown",
      "metadata": {
        "id": "lMPqcOqxc0a3"
      },
      "source": [
        "These settings create light grey bullets with a width of 3 pixels and a height of 15 pixels."
      ]
    },
    {
      "cell_type": "markdown",
      "metadata": {
        "id": "v1HucAeDdKX4"
      },
      "source": [
        "The next thing to do is going to be to make a class `Bullet` in a module *bullet.py* to manage the bullets. \n",
        "\n",
        "Another concept that you are going to learn about here is **sprites**. A sprite is simply a  graphic that is designed to be part of a larger scene. It can either be a static image or an animated graphic. The reason for using sprites here is when you use **sprites**, you can group related elements in your game and act on all the grouped elements at once. Although in old video games **sprites** used to be the standard way of integrating graphics in video games.\n",
        "\n",
        "So make a file *bullet.py* with the following code."
      ]
    },
    {
      "cell_type": "code",
      "metadata": {
        "id": "lo06HAsuI1-g"
      },
      "source": [
        "import pygame\n",
        "from pygame.sprite import Sprite\n",
        "\n",
        "class Bullet(Sprite):\n",
        "  \"\"\"A class to manage bullets fired from the ship\"\"\"\n",
        "  def __init__(self, ai_settings, screen, ship):\n",
        "    \"\"\"Create a bullet object at the ship's current position.\"\"\"\n",
        "    super().__init__() # connect Sprite and Bullet (Python 3 syntax is used)\n",
        "    self.screen = screen\n",
        "\n",
        "    # Create a bullet rect at (0, 0) and then set correct position.\n",
        "    self.rect = pygame.Rect(0, 0, ai_settings.bullet_width, ai_settings.bullet_height) # create rect at (0,0) with dimensions from ai_settings\n",
        "    # set the bullets's position according to the ship's position\n",
        "    self.rect.centerx = ship.rect.centerx\n",
        "    self.rect.top = ship.rect.top\n",
        "\n",
        "    # store the colour of the bullet\n",
        "    self.color = ai_settings.bullet_color\n"
      ],
      "execution_count": null,
      "outputs": []
    },
    {
      "cell_type": "markdown",
      "metadata": {
        "id": "FQYDOzayL5BN"
      },
      "source": [
        "The `Bullet` class inherits from `Sprite`, which we import from the\n",
        "`pygame.sprite` module. You guys don't need to know much about inheritane. All you need to understantd is, when one class inherits from another, it automatically takes on all the attributes and methods of the first class. So here the `bullet` class can also use the methods and attributes defined in the `Sprite` class. Another thing to note here is, the `super()` function which is a special function that helps Python make connections between the 2 classes. It will create a temporary object of the `Sprite` class through which we can access ts methods and attribues. If you want to learn more about inheritance you can watch [this video](https://www.youtube.com/watch?v=H2SQrZK2nvM&list=PLzMcBGfZo4-l1MqB1zoYfqzlj_HH-ZzXt&index=5)\n",
        "\n",
        "To create a bullet instance, \\_\\_init__() needs the **ai_settings**, **screen**, and **ship** instancesand we call super() to inherit properly from `Sprite`.  We then create the bullet’s rect attribute. The bullet is not based on an\n",
        "image so we have to build a rect from scratch using the `pygame.Rect()` class. This class requires the x- and y-coordinates of the top-left corner of the *rect*, and the width and height of the *rect*. We initialize the rect at (0, 0), but we’ll move it to the correct location in the next two lines, because the bullet’s position is dependent on the ship’s position. We get the width and\n",
        "height of the bullet from the values stored in ai_settings.\n",
        "\n",
        "We set the bullet’s **centerx** to be the same as the ship’s **rect.centerx**. The bullet should emerge from the top of the ship, so we set the top of the bullet’s rect to match the top of the ship’s rect, making it look like the bullet is fired from the ship.\n",
        "\n",
        "\n"
      ]
    },
    {
      "cell_type": "markdown",
      "metadata": {
        "id": "FIpf43rJkfAq"
      },
      "source": [
        "Now we add 2 more functions in the Bullet class, one to update the position of bullet i.e. make it move upward(We make it move 3 pixels at a time, a bullet should be faster than the ship) and another to draw the bullet on the screen"
      ]
    },
    {
      "cell_type": "code",
      "metadata": {
        "id": "bpId7BNqkDt5"
      },
      "source": [
        "  def update(self):\n",
        "    \"\"\"Move the bullet up the screen.\"\"\"\n",
        "    self.rect.y -= 3 #Remeber how the coordinates here work\n",
        "\n",
        "  def draw_bullet(self):\n",
        "    \"\"\"Draw the bullet to the screen.\"\"\"\n",
        "    pygame.draw.rect(self.screen, self.color, self.rect)\n"
      ],
      "execution_count": null,
      "outputs": []
    },
    {
      "cell_type": "markdown",
      "metadata": {
        "id": "ZBUstCbCltdk"
      },
      "source": [
        "## Storing bullets in a group\n",
        "\n",
        "Now that we have a Bullet class and the necessary settings defined, we can write code to fire a bullet each time the player presses the spacebar. First, we’ll create a group in *alien_invasion.py* to store all the live bullets so we can manage the bullets that have already been fired. This group will be an instance of the class `pygame.sprite.Group`, which behaves like a list with some extra functionality that’s helpful when building games.\n",
        "\n",
        "Here's how *alien_invasion.py* will be modified."
      ]
    },
    {
      "cell_type": "code",
      "metadata": {
        "id": "HH39IfdFmDIr"
      },
      "source": [
        "import pygame\n",
        "from pygame.sprite import Group\n",
        "--snip--\n",
        "\n",
        "def run_game():\n",
        "  --snip--\n",
        "\n",
        "  # Make a ship.\n",
        "  ship = Ship(ai_settings, screen)\n",
        "\n",
        "  # Make a group to store bullets in.\n",
        "  bullets = Group()\n",
        "\n",
        "  # Start the main loop for the game.\n",
        "  while True:\n",
        "    gf.check_events(ai_settings, screen, ship, bullets)\n",
        "    ship.update() \n",
        "    bullets.update() #update position of all bullets\n",
        "    gf.update_screen(bg_img, screen, ship, bullets)\n",
        "\n",
        "run_game()\n"
      ],
      "execution_count": null,
      "outputs": []
    },
    {
      "cell_type": "markdown",
      "metadata": {
        "id": "stYtQc0fojBz"
      },
      "source": [
        "We import Group from pygame.sprite. We make an instance of Group\n",
        "and call it bullets. This group is created outside of the while loop so we don’t create a new group of bullets each time the loop cycles.\n",
        "\n",
        "We pass bullets to `check_events()` and `update_screen()`. We’ll need to work with bullets in `check_events()` when the spacebar is pressed, and we’ll need to update the bullets that are being drawn to the screen in `update_screen()`.\n",
        "\n",
        "When you call `update()` on a group, the group automatically calls\n",
        "`update()` for each sprite in the group. \n",
        "\n"
      ]
    },
    {
      "cell_type": "markdown",
      "metadata": {
        "id": "ZNAwzDzAvisw"
      },
      "source": [
        "### Firing the bullets\n",
        "\n",
        "In game_functions.py, we need to modify `check_keydown_events()` to fire a bullet when the spacebar is pressed. We don’t need to change `check_keyup_events()` because nothing happens when the key is released. We also need to modify `update_screen()` to make sure each bullet is redrawn to the screen before we call `flip()`. Here are the relevant changes to *game_functions.py*:\n"
      ]
    },
    {
      "cell_type": "code",
      "metadata": {
        "id": "S6d2dbw9oim9"
      },
      "source": [
        "import sys\n",
        "import pygame\n",
        "from bullet import Bullet\n",
        "\n",
        "def check_events(ai_settings, screen, ship, bullets):\n",
        "  \"\"\"Respond to keypresses and mouse events.\"\"\"\n",
        "  --snip--\n",
        "    elif event.type == pygame.KEYDOWN:\n",
        "      check_keydown_events(event, ai_settings, screen, ship, bullets) \n",
        "\n",
        "    --snip--\n",
        "\n",
        "def check_keydown_events(event, ai_settings, screen, ship, bullets):\n",
        "  \"\"\"respond to keypresses\"\"\"\n",
        "  --snip--\n",
        "  elif event.key == pygame.K_SPACE:\n",
        "    # Create a new bullet and add it to the bullets group.\n",
        "    new_bullet = Bullet(ai_settings, screen, ship)\n",
        "    bullets.add(new_bullet)\n",
        "\n",
        "\n",
        "def check_keyup_events(event, ship):\n",
        "  --snip--\n",
        "\n",
        "def update_screen(bg_img, screen, ship, bullets):\n",
        "  \"\"\"Update images on the screen and flip to the new screen.\"\"\"\n",
        "  # Redraw the screen during each pass through the loop.\n",
        "  screen.blit(bg_img,(0,0))\n",
        "\n",
        "  # Redraw all bullets behind the ship.\n",
        "  for bullet in bullets.sprites():\n",
        "    bullet.draw_bullet()\n",
        "\n",
        "  # redraw the ship\n",
        "  ship.blitme()\n",
        "\n",
        "  # Make the most recently drawn screen visible.\n",
        "  pygame.display.flip()\n",
        "\n"
      ],
      "execution_count": null,
      "outputs": []
    },
    {
      "cell_type": "markdown",
      "metadata": {
        "id": "O6OdOrYPxtGG"
      },
      "source": [
        "The group **bullets** is passed to `check_keydown_events()`. When the\n",
        "player presses the spacebar, we create a new bullet (a Bullet instance that we name **new_bullet**) and add it to the group **bullets** using the `add()` method.\n",
        "\n",
        "We need to add **bullets** as well as the other objects needed as parameters in the definition of `check_events()` and `check_keydown_events()`.\n",
        "\n",
        "We also give the **bullets** parameter to `update_screen()`, which draws the bullets to the screen. The `bullets.sprites()` method returns a list of all **sprites** in the group **bullets**. To draw all fired bullets to the screen, we loop through the **sprites** in bullets and call `draw_bullet()` on each one "
      ]
    },
    {
      "cell_type": "markdown",
      "metadata": {
        "id": "oFCtVd52s32l"
      },
      "source": [
        "### Deleting old bullets\n",
        "At the moment, the bullets disappear when they reach the top, but only because Pygame can’t draw them above the top of the screen. The bullets actually continue to exist; their y-coordinate values just grow increasingly negative. This is a problem, because they continue to consume memory and processing power.\n",
        "\n",
        "To get rid of these bullets, we need to detect when the\n",
        "bottom value of a bullet’s rect has a value of 0, which indicates the bullet has passed off the top of the screen so we modify alien_invasion.py in the following manner.\n",
        "\n"
      ]
    },
    {
      "cell_type": "code",
      "metadata": {
        "id": "62M-s0W7tRsS"
      },
      "source": [
        "import pygame\n",
        "from pygame.sprite import Group\n",
        "--snip--\n",
        "\n",
        "def run_game():\n",
        "  --snip--\n",
        "\n",
        "  # Make a ship.\n",
        "  ship = Ship(ai_settings, screen)\n",
        "\n",
        "  # Make a group to store bullets in.\n",
        "  bullets = Group()\n",
        "\n",
        "  # Start the main loop for the game.\n",
        "  while True:\n",
        "    gf.check_events(ai_settings, screen, ship, bullets)\n",
        "    ship.update() \n",
        "    bullets.update() #update position of all bullets\n",
        "    \n",
        "    # Get rid of bullets that have disappeared.\n",
        "    for bullet in bullets.copy():\n",
        "      if bullet.rect.bottom <= 0:\n",
        "        bullets.remove(bullet)\n",
        "\n",
        "    gf.update_screen(ai_settings, screen, ship, bullets)\n",
        "\n",
        "run_game()"
      ],
      "execution_count": null,
      "outputs": []
    },
    {
      "cell_type": "markdown",
      "metadata": {
        "id": "00EWQkMEt8Ao"
      },
      "source": [
        "You shouldn’t remove items from a list or group within a for loop, so\n",
        "we have to loop over a copy of the group. We use the `copy()` method to set up the **for** loop, which enables us to modify bullets inside the loop. We check each bullet to see whether it has disappeared off the top of the screen. If it has, we remove it from **bullets**. \n",
        "\n",
        "After the **for** loop you can add `print(len(bullets))` to see how many bullets are there at an instant and see whether this works as we desired."
      ]
    },
    {
      "cell_type": "markdown",
      "metadata": {
        "id": "9oM4i-tOeHHU"
      },
      "source": [
        "### Limiting the Number of Bullets\n",
        "Many shooting games limit the number of bullets a player can have on the screen at one time to encourage players to shoot accurately. We’ll do the same in Alien Invasion. First, store the number of bullets allowed in settings.py:\n",
        "\n"
      ]
    },
    {
      "cell_type": "code",
      "metadata": {
        "id": "H0PWogEXeNX5"
      },
      "source": [
        "    # Bullet settings\n",
        "    self.bullet_width = 3\n",
        "    self.bullet_height = 15\n",
        "    self.bullet_color = 60, 60, 60\n",
        "    self.bullets_allowed = 3\n"
      ],
      "execution_count": null,
      "outputs": []
    },
    {
      "cell_type": "markdown",
      "metadata": {
        "id": "xltSeePdeYhL"
      },
      "source": [
        "This limits the player to three bullets at a time. We’ll use this setting in game_functions.py to check how many bullets exist before creating a new bullet in check_keydown_events():\n"
      ]
    },
    {
      "cell_type": "code",
      "metadata": {
        "id": "pcx0IoGBecmW"
      },
      "source": [
        "def check_keydown_events(event, ai_settings, screen, ship, bullets):\n",
        "  --snip--\n",
        "  elif event.key == pygame.K_SPACE:\n",
        "    # Create a new bullet and add it to the bullets group.\n",
        "    if len(bullets) < ai_settings.bullets_allowed:\n",
        "      new_bullet = Bullet(ai_settings, screen, ship)\n",
        "      bullets.add(new_bullet)\n"
      ],
      "execution_count": null,
      "outputs": []
    },
    {
      "cell_type": "markdown",
      "metadata": {
        "id": "gRha00xpupuO"
      },
      "source": [
        "### Refactoring\n",
        "Now we have written all the code for creating and managing bullets we should refactor it to keep our code as simple as possible. \n",
        "#### Create *update_bullets()* function\n",
        "The bullet management code that we have written in *alien_invasion.py*, should be moved to *game_functions.py*. We add the following function in *game_function.py*:"
      ]
    },
    {
      "cell_type": "code",
      "metadata": {
        "id": "bEZ5PSnav5D_"
      },
      "source": [
        "def update_bullets(bullets):\n",
        "  \"\"\"Update position of bullets and get rid of old bullets.\"\"\"\n",
        "  # Update bullet positions.\n",
        "  bullets.update()\n",
        "  # Get rid of bullets that have disappeared.\n",
        "  for bullet in bullets.copy():\n",
        "    if bullet.rect.bottom <= 0:\n",
        "      bullets.remove(bullet)\n"
      ],
      "execution_count": null,
      "outputs": []
    },
    {
      "cell_type": "markdown",
      "metadata": {
        "id": "lDDqer7zwHHj"
      },
      "source": [
        "Now the **while** loop in *alien_invasion.py* looks like:"
      ]
    },
    {
      "cell_type": "code",
      "metadata": {
        "id": "kDHBlYjiwRzI"
      },
      "source": [
        "    # Start the main loop for the game.\n",
        "    while True:\n",
        "        gf.check_events(ai_settings, screen, ship, bullets)\n",
        "        ship.update() \n",
        "        gf.update_bullets(bullets)\n",
        "        gf.update_screen(bg_img, screen, ship, bullets)\n"
      ],
      "execution_count": null,
      "outputs": []
    },
    {
      "cell_type": "markdown",
      "metadata": {
        "id": "a3vIl0RQwVzq"
      },
      "source": [
        "#### Create the *fire_bullet()* function\n",
        "Let’s move the code for firing a bullet to a separate function so we\n",
        "can use a single line of code to fire a bullet and keep the *elif* block in *check_keydown_events()* simple:\n"
      ]
    },
    {
      "cell_type": "code",
      "metadata": {
        "id": "YSu0qAOqwt_b"
      },
      "source": [
        "def check_keydown_events(event, ai_settings, screen, ship, bullets):\n",
        "  \"\"\"Respond to keypresses.\"\"\"\n",
        "  --snip--\n",
        "  elif event.key == pygame.K_SPACE:\n",
        "    fire_bullet(ai_settings, screen, ship, bullets)\n",
        "\n",
        "\n",
        "def fire_bullet(ai_settings, screen, ship, bullets):\n",
        "  \"\"\"Fire a bullet if limit not reached yet.\"\"\"\n",
        "  # Create a new bullet and add it to the bullets group.\n",
        "  if len(bullets) < ai_settings.bullets_allowed:\n",
        "      new_bullet = Bullet(ai_settings, screen, ship)\n",
        "      bullets.add(new_bullet)\n"
      ],
      "execution_count": null,
      "outputs": []
    }
  ]
}