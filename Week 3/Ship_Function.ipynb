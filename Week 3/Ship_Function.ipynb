{
  "nbformat": 4,
  "nbformat_minor": 0,
  "metadata": {
    "colab": {
      "name": "Ship Function.ipynb",
      "provenance": [],
      "collapsed_sections": []
    },
    "kernelspec": {
      "name": "python3",
      "display_name": "Python 3"
    },
    "language_info": {
      "name": "python"
    }
  },
  "cells": [
    {
      "cell_type": "markdown",
      "metadata": {
        "id": "oG_BHyzc3hIw"
      },
      "source": [
        "# Making the ship function"
      ]
    },
    {
      "cell_type": "markdown",
      "metadata": {
        "id": "ZAdPhqRP3xBk"
      },
      "source": [
        "Before we start to code for piloting the ship, making it fire bullets etc. we will learn about a concept called called refactoring which will help in organizing/ managing your code better."
      ]
    },
    {
      "cell_type": "markdown",
      "metadata": {
        "id": "XtztK1BW4Krj"
      },
      "source": [
        "## Refactoring : the *game_functions* module\n",
        "In larger projects, you’ll often refactor code the you’ve written before adding more. Refactoring simplifies the structure of the code you’ve already written, making it easier to build on. In this section we’ll create a new module called **game_functions**, which will store a number of functions that make Alien Invasion work. The game_functions module will prevent *alien_invasion.py* from becoming too lengthy and will make the logic in *alien_invasion.py* easier to follow.\n"
      ]
    },
    {
      "cell_type": "markdown",
      "metadata": {
        "id": "DDQtbRiv43Wt"
      },
      "source": [
        "To simplify *run_game* function we will first make 2 functions in the game_functions module: `check_events()` and `update_screen`.  \n",
        "\n",
        "Make the file game_functions.py with the following code."
      ]
    },
    {
      "cell_type": "code",
      "metadata": {
        "id": "fj3HBNsk3PJb"
      },
      "source": [
        "import sys\n",
        "import pygame\n",
        "\n",
        "def check_events():\n",
        "  \"\"\"Respond to keypresses and mouse events.\"\"\"\n",
        "  for event in pygame.event.get():\n",
        "    if event.type == pygame.QUIT:\n",
        "      sys.exit()\n",
        "\n",
        "def update_screen(bg_img, screen, ship):\n",
        "  \"\"\"Update images on the screen and flip to the new screen.\"\"\"\n",
        "  \n",
        "  # Redraw the screen during each pass through the loop.\n",
        "  screen.blit(bg_img, (0,0))\n",
        "  ship.blitme()\n",
        "\n",
        "  # Make the most recently drawn screen visible.\n",
        "  pygame.display.flip()\n",
        "\n"
      ],
      "execution_count": null,
      "outputs": []
    },
    {
      "cell_type": "markdown",
      "metadata": {
        "id": "BjBwLhvm6PCf"
      },
      "source": [
        "We simply moved the code which managed the events to this separted `check_events` function. Isolating the event loop in such a way, allows you to manage events separately from other aspects of the game.\n",
        "\n",
        "`update_screen()` function takes three parameters: bg_img,\n",
        "screen, and ship and simply redraws the screen.\n",
        "\n",
        "Using this here is how *alien_inavsion.py* will be modified."
      ]
    },
    {
      "cell_type": "code",
      "metadata": {
        "id": "dPBrk-zV7i1I"
      },
      "source": [
        "import pygame\n",
        "from settings import Settings\n",
        "from ship import Ship\n",
        "import game_functions as gf\n",
        "\n",
        "def run_game():\n",
        "    # Initialize pygame, settings, and screen object.\n",
        "    pygame.init()\n",
        "\n",
        "    ai_settings = Settings()\n",
        "\n",
        "    screen = pygame.display.set_mode((ai_settings.screen_width, ai_settings.screen_height))\n",
        "    pygame.display.set_caption(\"Alien Invasion\")\n",
        "\n",
        "    # Make a ship.\n",
        "    ship = Ship(screen)\n",
        "\n",
        "    #Load the background image\n",
        "    bg_img = pygame.image.load('images/bg.jpg')\n",
        "\n",
        "    # Start the main loop for the game.\n",
        "    while True:\n",
        "     gf.check_events()\n",
        "     gf.update_screen(bg_img, screen, ship)\n",
        "\n",
        "run_game()"
      ],
      "execution_count": null,
      "outputs": []
    },
    {
      "cell_type": "markdown",
      "metadata": {
        "id": "W7pk5QN479oE"
      },
      "source": [
        "You can see now how such refactoring simplified our code in alien_invasion.py.  \n",
        "*Also note we no longer need to import sys directly into the main program file, because it’s only being used in the game_functions module now.*"
      ]
    },
    {
      "cell_type": "markdown",
      "metadata": {
        "id": "Zsli5ppA_skr"
      },
      "source": [
        "## Piloting the ship\n",
        "Let’s give the player the ability to move the ship right and left. To do this, we’ll write code that responds when the player presses the right or left arrow key. We’ll focus on movement to the right first, and then we’ll apply the same principles to control movement to the left. As you do this, you’ll learn how to control the movement of images on the screen.\n"
      ]
    },
    {
      "cell_type": "markdown",
      "metadata": {
        "id": "FPVZTyaMCBD_"
      },
      "source": [
        "Whenever the player presses a key, that keypress is registered in Pygame as an event. Each event is picked up by the `pygame.event.get()` method, so we need to specify in our check_events() function what kind of events to check for. Each keypress is registered as a `KEYDOWN` event. When a `KEYDOWN` event is detected, we need to check whether the key that was pressed is one that triggers a certain event.  \n",
        "Here to detect pressing the right arrow key we can add the code directly in the `check_events()` function in *game_functions.py*.\n",
        "We can modify it in the following manner:"
      ]
    },
    {
      "cell_type": "code",
      "metadata": {
        "id": "XNnt0epNDJIB"
      },
      "source": [
        "import sys\n",
        "import pygame\n",
        "\n",
        "def check_events(ship):\n",
        "  \"\"\"Respond to keypresses and mouse events.\"\"\"\n",
        "  for event in pygame.event.get():\n",
        "    if event.type == pygame.QUIT:\n",
        "      sys.exit()\n",
        "  elif event.type == pygame.KEYDOWN:\n",
        "    if event.key == pygame.K_RIGHT:\n",
        "      # Move the ship to the right.\n",
        "      ship.rect.centerx += 1\n",
        "\n",
        "\n",
        "def update_screen(bg_img, screen, ship):\n",
        "  \"\"\"Update images on the screen and flip to the new screen.\"\"\"\n",
        "  \n",
        "  # Redraw the screen during each pass through the loop.\n",
        "  screen.blit(bg_img, (0,0))\n",
        "  ship.blitme()\n",
        "\n",
        "  # Make the most recently drawn screen visible.\n",
        "  pygame.display.flip()"
      ],
      "execution_count": null,
      "outputs": []
    },
    {
      "cell_type": "markdown",
      "metadata": {
        "id": "yfXMwsgQDItX"
      },
      "source": [
        "We give the `check_events()` function a ship parameter, because the ship needs to move to the right when the right arrow key is pressed. Inside `check_events()` we add an *elif* block to the event loop to respond when Pygame detects a `KEYDOWN` event. We check if the key pressed is the right arrow key (`pygame.K_RIGHT`) by reading the `event.key` attribute. If the right arrow key was pressed, we move the ship to the right by increasing the value of `ship.rect.centerx` by 1.\n",
        "\n",
        "While calling the function in *alien_invasion.py* we also need to pass *ship* object as an arguement.\n",
        "\n"
      ]
    },
    {
      "cell_type": "code",
      "metadata": {
        "id": "IGvd9VSiEmHU"
      },
      "source": [
        "# Start the main loop for the game.\n",
        "while True:\n",
        "  gf.check_events(ship)\n",
        "  gf.update_screen(bg_img, screen, ship)\n"
      ],
      "execution_count": null,
      "outputs": []
    },
    {
      "cell_type": "markdown",
      "metadata": {
        "id": "Hmn0bvrHEpN3"
      },
      "source": [
        "### Allowing Continuous Movement\n",
        "When the player holds down the right arrow key, we want the ship to\n",
        "continue moving right until the player releases the key. We’ll have our game detect a `pygame.KEYUP` event so we’ll know when the right arrow key is released; then we’ll use the `KEYDOWN` and `KEYUP` events together with a flag called `moving_right` to implement continuous motion.\n",
        "\n",
        "When the ship is motionless, the moving_right flag will be **False**. When the right arrow key is pressed, we’ll set the flag to **True**, and when it’s released, we’ll set the flag to **False** again.\n",
        "\n",
        "The Ship class controls all attributes of the ship, so we’ll give it an attribute called `moving_right` and an `update()` method to check the status of the `moving_right` flag.\n",
        "\n",
        "Here's how the ship class in *ship.py* will be modified."
      ]
    },
    {
      "cell_type": "code",
      "metadata": {
        "id": "a5nb41zYOT2Z"
      },
      "source": [
        "class Ship():\n",
        "\n",
        "  def __init__(self, screen):\n",
        "    \"\"\"Initialize the ship and set its starting position.\"\"\"\n",
        "\n",
        "    self.screen = screen #This refers to the screen object we had created\n",
        "    \n",
        "    # Load the ship image and get its rect.\n",
        "    self.image = pygame.image.load('images/ship.png')\n",
        "    self.rect = self.image.get_rect()\n",
        "    self.screen_rect = screen.get_rect()\n",
        "\n",
        "    # Start each new ship at the bottom center of the screen.\n",
        "    self.rect.centerx = self.screen_rect.centerx\n",
        "    self.rect.bottom = self.screen_rect.bottom\n",
        "\n",
        "    # Movement flag\n",
        "    self.moving_right = False\n",
        "\n",
        "  def update(self):\n",
        "    \"\"\"Update the ship's position based on the movement flag.\"\"\"\n",
        "    if self.moving_right:\n",
        "      self.rect.centerx += 1\n",
        "\n",
        "  def blitme(self):\n",
        "    --snip--\n"
      ],
      "execution_count": null,
      "outputs": []
    },
    {
      "cell_type": "markdown",
      "metadata": {
        "id": "h92XyG9rPCRi"
      },
      "source": [
        "We add a self.moving_right attribute in the `__init__()` method and set it to **False** initially. Then we add `update()`, which moves the ship right if the flag is **True**. "
      ]
    },
    {
      "cell_type": "markdown",
      "metadata": {
        "id": "hblXTiF5PSyR"
      },
      "source": [
        "Now modify `check_events()` so that moving_right is set to True when the right arrow key is pressed and False when the key is released.\n",
        "\n",
        "Here's how it will be modified in *game_functions.py* will be modified :"
      ]
    },
    {
      "cell_type": "code",
      "metadata": {
        "id": "sTRqs_tJPSVW"
      },
      "source": [
        "def check_events(ship):\n",
        "  \"\"\"Respond to keypresses and mouse events.\"\"\"\n",
        "  for event in pygame.event.get():\n",
        "    --snip--\n",
        "    elif event.type == pygame.KEYDOWN:\n",
        "      if event.key == pygame.K_RIGHT:  \n",
        "        ship.moving_right = True  \n",
        "    elif event.type == pygame.KEYUP:\n",
        "      if event.key == pygame.K_RIGHT:\n",
        "        ship.moving_right = False\n"
      ],
      "execution_count": null,
      "outputs": []
    },
    {
      "cell_type": "markdown",
      "metadata": {
        "id": "0bvk5VdbQMJE"
      },
      "source": [
        "We modify how the game responds when the player presses the\n",
        "right arrow key: instead of changing the ship’s position directly, we merely set `moving_right` to True. We then add a new elif block, which responds to `KEYUP` events. When the player releases the right arrow key (K_RIGHT), we set `moving_right` to **False**.\n"
      ]
    },
    {
      "cell_type": "markdown",
      "metadata": {
        "id": "RRRG3qzrQiRG"
      },
      "source": [
        "Finally, we modify the while loop in alien_invasion.py so it calls the ship’s update() method on each pass through the loop:\n"
      ]
    },
    {
      "cell_type": "code",
      "metadata": {
        "id": "dgNc2lBDQhbM"
      },
      "source": [
        "  # Start the main loop for the game.\n",
        "  while True:\n",
        "    gf.check_events(ship)\n",
        "    ship.update()\n",
        "    gf.update_screen(bg_img, screen, ship)\n"
      ],
      "execution_count": null,
      "outputs": []
    },
    {
      "cell_type": "markdown",
      "metadata": {
        "id": "B-Y2lJZxRSY7"
      },
      "source": [
        ""
      ]
    },
    {
      "cell_type": "markdown",
      "metadata": {
        "id": "FQJxluypQ24L"
      },
      "source": [
        "The ship’s position will update after we’ve checked for keyboard\n",
        "events and before we update the screen."
      ]
    },
    {
      "cell_type": "markdown",
      "metadata": {
        "id": "PrcTkhDWRP6Y"
      },
      "source": [
        "### Moving both left and right\n",
        "\n",
        "We’ll have to modify the Ship class and the check_events() function in a similar manner. Here are the relevant changes to `__init__()` and `update()` in Ship:\n"
      ]
    },
    {
      "cell_type": "code",
      "metadata": {
        "id": "_fkqt8L5Ro2n"
      },
      "source": [
        "class Ship():\n",
        "\n",
        "  def __init__(self, screen):\n",
        "    \"\"\"Initialize the ship and set its starting position.\"\"\"\n",
        "\n",
        "    self.screen = screen #This refers to the screen object we had created\n",
        "    \n",
        "    # Load the ship image and get its rect.\n",
        "    self.image = pygame.image.load('images/ship.png')\n",
        "    self.rect = self.image.get_rect()\n",
        "    self.screen_rect = screen.get_rect()\n",
        "\n",
        "    # Start each new ship at the bottom center of the screen.\n",
        "    self.rect.centerx = self.screen_rect.centerx\n",
        "    self.rect.bottom = self.screen_rect.bottom\n",
        "\n",
        "    # Movement flag\n",
        "    self.moving_right = False\n",
        "    self.moving_left = False\n",
        "\n",
        "  def update(self):\n",
        "    \"\"\"Update the ship's position based on the movement flag.\"\"\"\n",
        "    if self.moving_right:\n",
        "      self.rect.centerx += 1\n",
        "    if self.moving_left:\n",
        "      self.rect.centerx -= 1\n",
        "\n",
        "  def blitme(self):\n",
        "    --snip--"
      ],
      "execution_count": null,
      "outputs": []
    },
    {
      "cell_type": "markdown",
      "metadata": {
        "id": "8Ap1pt0oSIgp"
      },
      "source": [
        "We have to make 2 modifcations to `check_events()` in *game_functions.py* as well."
      ]
    },
    {
      "cell_type": "code",
      "metadata": {
        "id": "DZ8pcOeESSDP"
      },
      "source": [
        "def check_events(ship):\n",
        "  \"\"\"Respond to keypresses and mouse events.\"\"\"\n",
        "  for event in pygame.event.get():\n",
        "    --snip--\n",
        "    elif event.type == pygame.KEYDOWN:\n",
        "      if event.key == pygame.K_RIGHT:  \n",
        "        ship.moving_right = True \n",
        "      elif event.key == pygame.K_LEFT:  \n",
        "        ship.moving_left = True \n",
        "\n",
        "    elif event.type == pygame.KEYUP:\n",
        "      if event.key == pygame.K_RIGHT:\n",
        "        ship.moving_right = False\n",
        "      elif event.key == pygame.K_LEFT:\n",
        "        ship.moving_left = False"
      ],
      "execution_count": null,
      "outputs": []
    },
    {
      "cell_type": "markdown",
      "metadata": {
        "id": "ucn8ClDAcBG-"
      },
      "source": [
        "At this point however the ship will disappear off either edge of the screen if you hold down an arrow key long enough. Let’s correct this so the ship stops moving when it reaches the edge of the screen. We do this by modifying the update() method in Ship:\n"
      ]
    },
    {
      "cell_type": "code",
      "metadata": {
        "id": "DLS_vZl4cHyS"
      },
      "source": [
        "def update(self):\n",
        "  \"\"\"Update the ship's position based on movement flags.\"\"\"\n",
        "  if self.moving_right and self.rect.right < self.screen_rect.right:\n",
        "    self.rect.centerx += 1\n",
        "  if self.moving_left and self.rect.left > 0:\n",
        "    self.rect.centerx -= 1\n"
      ],
      "execution_count": null,
      "outputs": []
    },
    {
      "cell_type": "markdown",
      "metadata": {
        "id": "P3sLHxNoT13I"
      },
      "source": [
        "Before moving on we can refactor the `check_events()` making it easier to understand and organize the code there. Thus, we add 2 more functions in *game_functions.py*\n"
      ]
    },
    {
      "cell_type": "code",
      "metadata": {
        "id": "5a4n9xgNlKZ0"
      },
      "source": [
        "import sys\n",
        "import pygame\n",
        "\n",
        "def check_events(ship):\n",
        "  \"\"\"Respond to keypresses and mouse events.\"\"\"\n",
        "  for event in pygame.event.get():\n",
        "    if event.type == pygame.QUIT:\n",
        "      sys.exit()\n",
        "    elif event.type == pygame.KEYDOWN:\n",
        "      check_keydown_events(event,ship) \n",
        "\n",
        "    elif event.type == pygame.KEYUP:\n",
        "      check_keyup_events(event,ship)\n",
        "\n",
        "def check_keydown_events(event, ship):\n",
        "  \"\"\"respond to keypresses\"\"\"\n",
        "  if event.key == pygame.K_RIGHT:  \n",
        "    ship.moving_right = True \n",
        "  elif event.key == pygame.K_LEFT:  \n",
        "    ship.moving_left = True\n",
        "\n",
        "def check_keyup_events(event, ship):\n",
        "  \"\"\" respond to key releases\"\"\"\n",
        "  if event.key == pygame.K_RIGHT:\n",
        "    ship.moving_right = False\n",
        "  elif event.key == pygame.K_LEFT:\n",
        "    ship.moving_left = False\n",
        "\n",
        "def update_screen(bg_img, screen, ship):\n",
        "  \"\"\"Update images on the screen and flip to the new screen.\"\"\"\n",
        "  \n",
        "  # Redraw the screen during each pass through the loop.\n",
        "  screen.blit(bg_img,(0,0))\n",
        "  ship.blitme()\n",
        "\n",
        "  # Make the most recently drawn screen visible.\n",
        "  pygame.display.flip()\n"
      ],
      "execution_count": null,
      "outputs": []
    },
    {
      "cell_type": "markdown",
      "metadata": {
        "id": "nWWe-lVJmK0W"
      },
      "source": [
        "We make two new functions: `check_keydown_events()` and `check_keyup_\n",
        "events()`. Each needs an event parameter and a ship parameter. The bodies\n",
        "of these two functions are copied from `check_events()`, and we’ve replaced\n",
        "the old code with calls to the new functions."
      ]
    }
  ]
}